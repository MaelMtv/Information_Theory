{
 "cells": [
  {
   "cell_type": "markdown",
   "metadata": {},
   "source": [
    "# Exercise 4"
   ]
  },
  {
   "cell_type": "code",
   "execution_count": 1,
   "metadata": {},
   "outputs": [],
   "source": [
    "#Imports\n",
    "import numpy as np "
   ]
  },
  {
   "cell_type": "markdown",
   "metadata": {},
   "source": [
    "## Context\n",
    "A hospital measured the white blood cell density, sugar density and body temperature of a few patients and want to see which value is the most useful to explain if the patient had a serious illness or not a posteriori. We have four variables X1 (white blood cell concentration), X2 (sugar concentration), X3 (temperature) and X (Has a serious illness). X1, X2 and X3 can take the values 0, 1 or 2 depending if the concentration/temperature is low, medium or high and Y can only take the values 0 or 1 (ill or not)."
   ]
  },
  {
   "cell_type": "code",
   "execution_count": 2,
   "metadata": {},
   "outputs": [
    {
     "name": "stdout",
     "output_type": "stream",
     "text": [
      "Information gain ratio of x1: 0.46930459192814494\n",
      "Information gain ratio of x2: 0.6666666666666666\n",
      "Information gain ratio of x3: 0.6853314789615866\n"
     ]
    }
   ],
   "source": [
    "x1 = [1,0,1,0,2,0,2,1,2,0,1,0]\n",
    "x2 = [1,0,2,0,1,0,2,0,2,0,1,0]\n",
    "x3 = [1,0,1,0,2,0,2,0,2,0,2,0]\n",
    "x = [1,0,1,0,1,0,1,0,1,0,1,0]\n",
    "\n",
    "def h(x):\n",
    "    p = [x.count(i)/len(x) for i in np.unique(x)]\n",
    "    s = 0\n",
    "    for k in p:\n",
    "        if k!=0:\n",
    "            s -= k*np.log2(k)\n",
    "    return s\n",
    "\n",
    "\n",
    "def hj(x,y):\n",
    "    xy = [(a,b) for a,b in zip(x,y)]\n",
    "    p = [xy.count((i,j))/len(x) for i in np.unique(x) for j in np.unique(y)]\n",
    "    s = 0\n",
    "    for k in p:\n",
    "        if k!=0:\n",
    "            s -= k*np.log2(k)\n",
    "    return s\n",
    "\n",
    "def Iratio(x,y):\n",
    "    return (h(x)+h(y)-hj(x,y))/h(y)\n",
    "\n",
    "print('Information gain ratio of x1:',Iratio(x,x1))\n",
    "print('Information gain ratio of x2:',Iratio(x,x2))\n",
    "print('Information gain ratio of x3:',Iratio(x,x3))\n"
   ]
  },
  {
   "cell_type": "markdown",
   "metadata": {},
   "source": [
    "The variable which yields the highest information gain ratio is the third one: the body temperature. The body temperature is the parameter that better explains if a patient is ill or not."
   ]
  }
 ],
 "metadata": {
  "kernelspec": {
   "display_name": "Python 3",
   "language": "python",
   "name": "python3"
  },
  "language_info": {
   "codemirror_mode": {
    "name": "ipython",
    "version": 3
   },
   "file_extension": ".py",
   "mimetype": "text/x-python",
   "name": "python",
   "nbconvert_exporter": "python",
   "pygments_lexer": "ipython3",
   "version": "3.11.4"
  }
 },
 "nbformat": 4,
 "nbformat_minor": 2
}
