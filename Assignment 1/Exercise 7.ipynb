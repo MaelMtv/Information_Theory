{
 "cells": [
  {
   "cell_type": "markdown",
   "metadata": {},
   "source": [
    "# Exercise 7"
   ]
  },
  {
   "cell_type": "code",
   "execution_count": 4,
   "metadata": {},
   "outputs": [],
   "source": [
    "# Imports\n",
    "import numpy as np \n",
    "import matplotlib.pyplot as plt\n",
    "from sklearn.metrics import confusion_matrix, ConfusionMatrixDisplay\n",
    "import networkx as nx"
   ]
  },
  {
   "cell_type": "code",
   "execution_count": 5,
   "metadata": {},
   "outputs": [],
   "source": [
    "# Training data\n",
    "c = [0,0,1,0,1,1,1,0,1]\n",
    "x=[[20,20,20,20,40,40,40,20,60],[0,0,1,1,0,1,1,0,1],[10,70,20,80,40,60,50,60,60]]"
   ]
  },
  {
   "cell_type": "markdown",
   "metadata": {},
   "source": [
    "### Useful functions"
   ]
  },
  {
   "cell_type": "code",
   "execution_count": 10,
   "metadata": {},
   "outputs": [],
   "source": [
    "def h(x): #Entropy\n",
    "    p = [x.count(i)/len(x) for i in np.unique(x)]\n",
    "    s = 0\n",
    "    for k in p:\n",
    "        if k!=0:\n",
    "            s -= k*np.log2(k)\n",
    "    return s\n",
    "\n",
    "def Iratiot(c,x,t): #Information ratio between c and x with x divided in two subsets with threshold value t\n",
    "    hx = h(x)\n",
    "    x = np.array(x)\n",
    "    hc = h(c)\n",
    "    h1 = h([c[i] for i in np.where(x<=t)[0]])\n",
    "    h2 = h([c[i] for i in np.where(x>t)[0]])\n",
    "    hcx = (len(x[x<=t])*h1+len(x[x>t])*h2)/len(x)\n",
    "    i = hc-hcx\n",
    "    print('H(c)=',hc)\n",
    "    print('H(c|0)=',h1)\n",
    "    print('H(c|1)=',h2)\n",
    "    print('H(c|x)=',hcx)\n",
    "    print('I(c,x)=',i)\n",
    "    print('H(x)=',hx)\n",
    "    print(' ')\n",
    "    return i/hx\n",
    "\n",
    "\n",
    "def split(c,x): #Creates a decision tree that uses IGR as a splitting criterion\n",
    "\n",
    "    vals = np.unique(c)\n",
    "    if len(vals)==1: #If all classes in training set are the same we can't learn anything and we just return a leaf\n",
    "        return [(-1,vals[0])]\n",
    "    \n",
    "    else: # Find the best threshold and the best variable to perform a split then compute the decision tree on the left part and the right part that we created\n",
    "        x0 = x[0] #First variable\n",
    "        u0 = np.unique(x0) #All possible values of first variable\n",
    "        t0 = [int((u0[i+1]+u0[i])/2) for i in range(len(u0)-1)] #All possible threshold of first variable\n",
    "\n",
    "        x1 = x[1]\n",
    "        u1 = np.unique(x1)\n",
    "        t1 = [(u1[i+1]+u1[i])/2 for i in range(len(u1)-1)]\n",
    "\n",
    "        x2 = x[2]\n",
    "        u2 = np.unique(x2)\n",
    "        t2 = [int((u2[i+1]+u2[i])/2) for i in range(len(u2)-1)]\n",
    "\n",
    "        t = [t0,t1,t2]\n",
    "        \n",
    "        rat = [[Iratiot(c,x[i],j) for j in t[i]] if len(t[i])!=0 else [0] for i in range(3)] # IGR for all thresholds for all variables\n",
    "\n",
    "        maxratind = [np.argmax(rat[i]) for i in range(3)] #Highest IGR for each variable\n",
    "        Irat = [rat[i][maxratind[i]] for i in range(3)] #Highest IRG overall\n",
    "        n = np.argmax(Irat)\n",
    "        print('Best Information gain ratio:',Irat[n])\n",
    "        tn = t[n][maxratind[n]] #Splitting threshold\n",
    "\n",
    "        first = np.array(x[n])\n",
    "        right = np.where(first<=tn)[0]\n",
    "        left = np.where(first>tn)[0]\n",
    "\n",
    "        cr = [c[j] for j in right]\n",
    "        cl = [c[j] for j in left]\n",
    "\n",
    "\n",
    "        xr = [[x0[i] for i in right],[x1[i] for i in right],[x2[i] for i in right]] #Values of training set in the right sub-tree\n",
    "        xl = [[x0[i] for i in left],[x1[i] for i in left],[x2[i] for i in left]] #Values of training set in the left sub-tree\n",
    "\n",
    "        return [(n,tn),split(cr,xr),split(cl,xl)]"
   ]
  },
  {
   "cell_type": "code",
   "execution_count": 11,
   "metadata": {},
   "outputs": [
    {
     "name": "stdout",
     "output_type": "stream",
     "text": [
      "H(c)= 0.9910760598382222\n",
      "H(c|0)= 0.7219280948873623\n",
      "H(c|1)= 0.0\n",
      "H(c|x)= 0.40107116382631236\n",
      "I(c,x)= 0.5900048960119099\n",
      "H(x)= 1.3516441151533922\n",
      " \n",
      "H(c)= 0.9910760598382222\n",
      "H(c|0)= 1.0\n",
      "H(c|1)= 0.0\n",
      "H(c|x)= 0.8888888888888888\n",
      "I(c,x)= 0.10218717094933338\n",
      "H(x)= 1.3516441151533922\n",
      " \n",
      "H(c)= 0.9910760598382222\n",
      "H(c|0)= 0.8112781244591328\n",
      "H(c|1)= 0.7219280948873623\n",
      "H(c|x)= 0.7616392191414825\n",
      "I(c,x)= 0.22943684069673975\n",
      "H(x)= 0.9910760598382222\n",
      " \n",
      "H(c)= 0.9910760598382222\n",
      "H(c|0)= 0.0\n",
      "H(c|1)= 0.954434002924965\n",
      "H(c|x)= 0.8483857803777467\n",
      "I(c,x)= 0.14269027946047552\n",
      "H(x)= 2.6416041678685933\n",
      " \n",
      "H(c)= 0.9910760598382222\n",
      "H(c|0)= 1.0\n",
      "H(c|1)= 0.9852281360342515\n",
      "H(c|x)= 0.9885107724710847\n",
      "I(c,x)= 0.0025652873671375698\n",
      "H(x)= 2.6416041678685933\n",
      " \n",
      "H(c)= 0.9910760598382222\n",
      "H(c|0)= 0.9182958340544896\n",
      "H(c|1)= 1.0\n",
      "H(c|x)= 0.9727652780181631\n",
      "I(c,x)= 0.018310781820059074\n",
      "H(x)= 2.6416041678685933\n",
      " \n",
      "H(c)= 0.9910760598382222\n",
      "H(c|0)= 0.8112781244591328\n",
      "H(c|1)= 0.9709505944546686\n",
      "H(c|x)= 0.8999850522344305\n",
      "I(c,x)= 0.09109100760379174\n",
      "H(x)= 2.6416041678685933\n",
      " \n",
      "H(c)= 0.9910760598382222\n",
      "H(c|0)= 0.863120568566631\n",
      "H(c|1)= 0.0\n",
      "H(c|x)= 0.6713159977740464\n",
      "I(c,x)= 0.31976006206417584\n",
      "H(x)= 2.6416041678685933\n",
      " \n",
      "H(c)= 0.9910760598382222\n",
      "H(c|0)= 0.954434002924965\n",
      "H(c|1)= 0.0\n",
      "H(c|x)= 0.8483857803777467\n",
      "I(c,x)= 0.14269027946047552\n",
      "H(x)= 2.6416041678685933\n",
      " \n",
      "Best Information gain ratio: 0.4365090554512959\n",
      "H(c)= 0.7219280948873623\n",
      "H(c|0)= 0.0\n",
      "H(c|1)= 1.0\n",
      "H(c|x)= 0.4\n",
      "I(c,x)= 0.3219280948873623\n",
      "H(x)= 0.9709505944546686\n",
      " \n",
      "H(c)= 0.7219280948873623\n",
      "H(c|0)= 0.0\n",
      "H(c|1)= 0.8112781244591328\n",
      "H(c|x)= 0.6490224995673063\n",
      "I(c,x)= 0.07290559532005603\n",
      "H(x)= 2.321928094887362\n",
      " \n",
      "H(c)= 0.7219280948873623\n",
      "H(c|0)= 1.0\n",
      "H(c|1)= 0.0\n",
      "H(c|x)= 0.4\n",
      "I(c,x)= 0.3219280948873623\n",
      "H(x)= 2.321928094887362\n",
      " \n",
      "H(c)= 0.7219280948873623\n",
      "H(c|0)= 0.9182958340544896\n",
      "H(c|1)= 0.0\n",
      "H(c|x)= 0.5509775004326938\n",
      "I(c,x)= 0.17095059445466854\n",
      "H(x)= 2.321928094887362\n",
      " \n",
      "H(c)= 0.7219280948873623\n",
      "H(c|0)= 0.8112781244591328\n",
      "H(c|1)= 0.0\n",
      "H(c|x)= 0.6490224995673063\n",
      "I(c,x)= 0.07290559532005603\n",
      "H(x)= 2.321928094887362\n",
      " \n",
      "Best Information gain ratio: 0.33155970728682876\n",
      "H(c)= 1.0\n",
      "H(c|0)= 0.0\n",
      "H(c|1)= 0.0\n",
      "H(c|x)= 0.0\n",
      "I(c,x)= 1.0\n",
      "H(x)= 1.0\n",
      " \n",
      "Best Information gain ratio: 1.0\n",
      "[(0, 30), [(1, 0.5), [(-1, 0)], [(2, 50), [(-1, 1)], [(-1, 0)]]], [(-1, 1)]]\n"
     ]
    }
   ],
   "source": [
    "tree = split(c,x)\n",
    "print(tree)"
   ]
  },
  {
   "cell_type": "markdown",
   "metadata": {},
   "source": [
    "Each tuple contains the index of the variable used to perform the split and the threshold value (if the first value is -1 then the node is a leaf and the second value is the class in which you should put your sample)"
   ]
  },
  {
   "cell_type": "code",
   "execution_count": 5,
   "metadata": {},
   "outputs": [
    {
     "name": "stdout",
     "output_type": "stream",
     "text": [
      "{0: 'X0<=30?', 1: 'X1<=0.5?', 2: 'Class = 0', 3: 'X2<=50?', 4: 'Class = 1', 5: 'Class = 0', 6: 'Class = 1'} [(0, 1, 'yes'), (1, 2, 'yes'), (1, 3, 'no'), (3, 4, 'yes'), (3, 5, 'no'), (0, 6, 'no')]\n"
     ]
    }
   ],
   "source": [
    "vertices={}\n",
    "links =[]\n",
    "\n",
    "#Returns a dictionnary wich pairs an integer used to build the decision tree with the test you must perform on this node or the class you are assigned to\n",
    "#and a list of edges with label yes or no depending on whether you passed the test this edge comes from or not\n",
    "def get_verticesdict_and_edges(tree,father=-1,elabel='yes'):\n",
    "    inds = list(vertices.keys())\n",
    "    #Get first available index\n",
    "    if len(inds)==0:\n",
    "        ind = 0\n",
    "    else:\n",
    "        ind = np.max(inds)+1\n",
    "    \n",
    "    #Don't add an edge coming to the root\n",
    "    if father >= 0:\n",
    "        links.append((father,ind,elabel))\n",
    "    #If you are on a leaf, which is represented by a list of length 1 here\n",
    "    if len(tree)==1:\n",
    "        vertices[ind] = 'Class = '+str(tree[0][1])\n",
    "    else:\n",
    "        root = tree[0]\n",
    "        label = 'X'+str(root[0])+'<='+str(root[1])+'?'\n",
    "        vertices[ind] = label\n",
    "        get_verticesdict_and_edges(tree[1],ind,'yes')\n",
    "        get_verticesdict_and_edges(tree[2],ind,'no')\n",
    "    v = vertices.copy()\n",
    "    e = links.copy()\n",
    "    return v,e\n",
    "\n",
    "\n",
    "v,e = get_verticesdict_and_edges(tree)\n",
    "print(v,e)\n"
   ]
  },
  {
   "cell_type": "markdown",
   "metadata": {},
   "source": [
    "### Plotting the tree"
   ]
  },
  {
   "cell_type": "code",
   "execution_count": 6,
   "metadata": {},
   "outputs": [
    {
     "data": {
      "image/png": "[encoded data removed]",
      "text/plain": [
       "<Figure size 640x480 with 1 Axes>"
      ]
     },
     "metadata": {},
     "output_type": "display_data"
    }
   ],
   "source": [
    "DG = nx.DiGraph()\n",
    "\n",
    "#DG.add_nodes_from([v[i] for i in range(7)])\n",
    "for link in e:\n",
    "    DG.add_edge(link[0],link[1])\n",
    "\n",
    "for layer, nodes in enumerate(reversed(tuple(nx.topological_generations(DG)))):\n",
    "    # `multipartite_layout` expects the layer as a node attribute, so add the\n",
    "    # numeric layer value as a node attribute\n",
    "    for node in nodes:\n",
    "        DG.nodes[node][\"layer\"] = layer\n",
    "\n",
    "# Compute the multipartite_layout using the \"layer\" node attribute\n",
    "pos = nx.multipartite_layout(DG, subset_key=\"layer\", align='horizontal')\n",
    "elabel = {(a,b):c for a,b,c in e}\n",
    "\n",
    "fig, ax = plt.subplots()\n",
    "nx.draw(DG, pos=pos, ax=ax,labels=v)\n",
    "nx.draw_networkx_edge_labels(DG,pos,edge_labels=elabel)\n",
    "ax.set_title(\"Tree Classifier\")\n",
    "fig.tight_layout()\n",
    "plt.show()\n"
   ]
  },
  {
   "cell_type": "markdown",
   "metadata": {},
   "source": [
    "### COmputing accuracy on train set and plotting the confusion matrix"
   ]
  },
  {
   "cell_type": "code",
   "execution_count": 7,
   "metadata": {},
   "outputs": [
    {
     "name": "stdout",
     "output_type": "stream",
     "text": [
      "0 -th element of the train set:\n",
      "True class: 0\n",
      "Predicted class: 0\n",
      " \n",
      "1 -th element of the train set:\n",
      "True class: 0\n",
      "Predicted class: 0\n",
      " \n",
      "2 -th element of the train set:\n",
      "True class: 1\n",
      "Predicted class: 1\n",
      " \n",
      "3 -th element of the train set:\n",
      "True class: 0\n",
      "Predicted class: 0\n",
      " \n",
      "4 -th element of the train set:\n",
      "True class: 1\n",
      "Predicted class: 1\n",
      " \n",
      "5 -th element of the train set:\n",
      "True class: 1\n",
      "Predicted class: 1\n",
      " \n",
      "6 -th element of the train set:\n",
      "True class: 1\n",
      "Predicted class: 1\n",
      " \n",
      "7 -th element of the train set:\n",
      "True class: 0\n",
      "Predicted class: 0\n",
      " \n",
      "8 -th element of the train set:\n",
      "True class: 1\n",
      "Predicted class: 1\n",
      " \n"
     ]
    },
    {
     "data": {
      "text/plain": [
       "<sklearn.metrics._plot.confusion_matrix.ConfusionMatrixDisplay at 0x23ed5ea5690>"
      ]
     },
     "execution_count": 7,
     "metadata": {},
     "output_type": "execute_result"
    },
    {
     "data": {
      "image/png": "[encoded data removed]",
      "text/plain": [
       "<Figure size 640x480 with 2 Axes>"
      ]
     },
     "metadata": {},
     "output_type": "display_data"
    }
   ],
   "source": [
    "def predict(x,tree):\n",
    "    if len(tree)==1:\n",
    "        return tree[0][1]\n",
    "    else:\n",
    "        var,thresh = tree[0]\n",
    "        if x[var] <= thresh:\n",
    "            return predict(x,tree[1])\n",
    "        else:\n",
    "            return predict(x,tree[2])\n",
    "\n",
    "tset = np.array(x)\n",
    "preds = [predict(tset[:,i],tree) for i in range(len(c))]\n",
    "for i in range(len(c)):\n",
    "    print(i,'-th element of the train set:')\n",
    "    print('True class:',c[i])\n",
    "    print('Predicted class:',preds[i])\n",
    "    print(' ')\n",
    "\n",
    "\n",
    "\n",
    "ConfusionMatrixDisplay(confusion_matrix(c,preds)).plot()"
   ]
  },
  {
   "cell_type": "markdown",
   "metadata": {},
   "source": [
    "### Testing with new samples"
   ]
  },
  {
   "cell_type": "code",
   "execution_count": 8,
   "metadata": {},
   "outputs": [
    {
     "name": "stdout",
     "output_type": "stream",
     "text": [
      "Predicted class of [32  1 10] : 1\n",
      " \n",
      "Predicted class of [33  0 37] : 1\n",
      " \n",
      "Predicted class of [62  0 50] : 1\n",
      " \n",
      "Predicted class of [25  0 42] : 0\n",
      " \n"
     ]
    }
   ],
   "source": [
    "test = np.array([[32,1,10],[33,0,37],[62,0,50],[25,0,42]])\n",
    "for k in test:\n",
    "    print('Predicted class of',k,':',predict(k,tree))\n",
    "    print(' ')"
   ]
  },
  {
   "cell_type": "markdown",
   "metadata": {},
   "source": [
    "## Test cell:"
   ]
  },
  {
   "cell_type": "code",
   "execution_count": 9,
   "metadata": {},
   "outputs": [
    {
     "name": "stdout",
     "output_type": "stream",
     "text": [
      "Predicted class of  [25, 1.0, 21] : 1\n"
     ]
    }
   ],
   "source": [
    "v1 = input('Please enter a number between 0 and 80:')\n",
    "v2 = input('Please enter a second number between 0 and 1:')\n",
    "v3 = input('Please enter a third number between 0 and 90:')\n",
    "vector = [int(v1),float(v2),int(v3)]\n",
    "print('Predicted class of ',vector,':',predict(vector,tree))"
   ]
  }
 ],
 "metadata": {
  "kernelspec": {
   "display_name": "Python 3",
   "language": "python",
   "name": "python3"
  },
  "language_info": {
   "codemirror_mode": {
    "name": "ipython",
    "version": 3
   },
   "file_extension": ".py",
   "mimetype": "text/x-python",
   "name": "python",
   "nbconvert_exporter": "python",
   "pygments_lexer": "ipython3",
   "version": "3.11.4"
  }
 },
 "nbformat": 4,
 "nbformat_minor": 2
}
