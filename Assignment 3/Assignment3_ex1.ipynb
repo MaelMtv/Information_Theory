{
 "cells": [
  {
   "cell_type": "code",
   "execution_count": 1,
   "metadata": {},
   "outputs": [],
   "source": [
    "import numpy as np\n",
    "from sympy import Matrix\n",
    "import matplotlib.pyplot as plt"
   ]
  },
  {
   "cell_type": "code",
   "execution_count": 2,
   "metadata": {},
   "outputs": [],
   "source": [
    "#Define variables\n",
    "key = [0,0,0,0,0,0,0,0,0,1]\n",
    "m = len(key)\n",
    "N = 2**m-1\n",
    "Mseq = []"
   ]
  },
  {
   "cell_type": "code",
   "execution_count": 3,
   "metadata": {},
   "outputs": [],
   "source": [
    "#Generate entire sequence(Q1)\n",
    "state = key.copy()\n",
    "for _ in range(N):\n",
    "    new = state[-1]^state[-4]\n",
    "    Mseq.append(state[-1])\n",
    "    state = state[-1:]+state[:-1]\n",
    "    state[0] = new"
   ]
  },
  {
   "cell_type": "code",
   "execution_count": 4,
   "metadata": {},
   "outputs": [
    {
     "data": {
      "image/png": "[encoded data removed]",
      "text/plain": [
       "<Figure size 640x480 with 1 Axes>"
      ]
     },
     "metadata": {},
     "output_type": "display_data"
    }
   ],
   "source": [
    "#Plot bipolar sequence\n",
    "Bipseq = 2*np.array(Mseq)-1\n",
    "y = np.concatenate((Bipseq[:1],Bipseq[:20]))\n",
    "plt.step(range(21),y)\n",
    "plt.xticks(range(21))\n",
    "plt.show()"
   ]
  },
  {
   "cell_type": "code",
   "execution_count": 5,
   "metadata": {},
   "outputs": [
    {
     "name": "stdout",
     "output_type": "stream",
     "text": [
      "N0 = 511 ; N1 = 512\n"
     ]
    }
   ],
   "source": [
    "#Print number of 0 and 1(Q1)\n",
    "N1 = np.sum(Mseq)\n",
    "N0 = len(Mseq)-N1\n",
    "print(\"N0 =\",N0,\"; N1 =\",N1)"
   ]
  },
  {
   "cell_type": "code",
   "execution_count": 6,
   "metadata": {},
   "outputs": [],
   "source": [
    "#Compute number of runs(Q3)\n",
    "n0 = [0]*(m-1)\n",
    "n1 = [0]*m\n",
    "n = [n0,n1]\n",
    "\n",
    "def a(list,v,l,n):\n",
    "    if len(list)==0:\n",
    "        n[v][l-1] += 1\n",
    "        return n\n",
    "    else:\n",
    "        next = list[0]\n",
    "        if next == v:\n",
    "            return a(list[1:],next,l+1,n)\n",
    "        else:\n",
    "            n[v][l-1] += 1\n",
    "            return a(list[1:],next,1,n)\n",
    "\n",
    "c = a(Mseq[1:],Mseq[0],1,n)"
   ]
  },
  {
   "cell_type": "code",
   "execution_count": 7,
   "metadata": {},
   "outputs": [
    {
     "name": "stdout",
     "output_type": "stream",
     "text": [
      "Number of runs of of length 1 to 10: [256, 128, 64, 32, 16, 8, 4, 2, 1, 1]\n",
      "Number of runs of zeros of length 1 to 9: [128, 64, 32, 16, 8, 4, 2, 1, 1]\n",
      "Number of runs of ones of length 1 to 10: [128, 64, 32, 16, 8, 4, 2, 1, 0, 1]\n"
     ]
    }
   ],
   "source": [
    "c0 = c[0]+[0]\n",
    "n = [a+b for a,b in zip(c0,c[1])]\n",
    "print(\"Number of runs of of length 1 to 10:\",n)\n",
    "print(\"Number of runs of zeros of length 1 to 9:\",c[0])\n",
    "print(\"Number of runs of ones of length 1 to 10:\",c[1])"
   ]
  },
  {
   "cell_type": "code",
   "execution_count": 8,
   "metadata": {},
   "outputs": [],
   "source": [
    "#Periodic autocorrelation function(Q6)\n",
    "def per_auto_corr(bipseq,t):\n",
    "    return np.sum(bipseq*np.concatenate((bipseq[-t:],bipseq[:-t])))\n"
   ]
  },
  {
   "cell_type": "code",
   "execution_count": 9,
   "metadata": {},
   "outputs": [
    {
     "data": {
      "image/png": "[encoded data removed]",
      "text/plain": [
       "<Figure size 640x480 with 1 Axes>"
      ]
     },
     "metadata": {},
     "output_type": "display_data"
    }
   ],
   "source": [
    "#Plot periodic autocorrelation\n",
    "x = range(-(N-1)//2,(N-1)//2+1)\n",
    "R = [per_auto_corr(Bipseq,t) for t in x]\n",
    "plt.plot(x,R)\n",
    "plt.xlabel(\"t\")\n",
    "plt.ylabel(\"R(t)\")\n",
    "plt.show()"
   ]
  },
  {
   "cell_type": "code",
   "execution_count": 10,
   "metadata": {},
   "outputs": [
    {
     "name": "stdout",
     "output_type": "stream",
     "text": [
      "R(0) = 1023\n",
      "R(-1) = -1\n"
     ]
    }
   ],
   "source": [
    "print(\"R(0) =\",per_auto_corr(Bipseq,0))\n",
    "print(\"R(-1) =\",per_auto_corr(Bipseq,-1))"
   ]
  },
  {
   "cell_type": "code",
   "execution_count": 11,
   "metadata": {},
   "outputs": [
    {
     "name": "stdout",
     "output_type": "stream",
     "text": [
      "Incorrect value of m:A has no mod 2 inverse: m = 5\n",
      "Incorrect value of m:A has no mod 2 inverse: m = 7\n",
      "Incorrect value of m:A has no mod 2 inverse: m = 8\n",
      "Incorrect value of m:A has no mod 2 inverse: m = 9\n",
      "Incorrect value of m:A has no mod 2 inverse: m = 10\n",
      "Incorrect value of m:A has no mod 2 inverse: m = 11\n"
     ]
    },
    {
     "name": "stdout",
     "output_type": "stream",
     "text": [
      "Incorrect value of m:A has no mod 2 inverse: m = 14\n",
      "Incorrect value of m:A has no mod 2 inverse: m = 15\n",
      "Incorrect value of m:A has no mod 2 inverse: m = 18\n",
      "19\n"
     ]
    }
   ],
   "source": [
    "#Compute the primitive polynomial of an LFSR given a fraction of the key(Q7)\n",
    "key = [1,0,1,0,0,0,1,1,0,0,0,1,1,0,0,0,1,0,1,1,1,1,0,1,0,0,1,1,1,0,0,1,0,0,0,0,1,0,1,0]\n",
    "n = len(key)\n",
    "m = 3\n",
    "while m<=20:\n",
    "    b = key[m:2*m]\n",
    "    A = [key[i:m+i] for i in range(m)]\n",
    "    try:\n",
    "        AI = Matrix(A).inv_mod(2)\n",
    "        p = (np.array(AI)@b)%2\n",
    "        seq = []\n",
    "        for i in range(2*m,n):\n",
    "            new = (p@key[i-m:i])%2\n",
    "            seq.append(new)\n",
    "        if seq == key[2*m:]:\n",
    "            print(m)\n",
    "            break\n",
    "    except:\n",
    "        print(\"Incorrect value of m:A has no mod 2 inverse: m =\",m)\n",
    "    m += 1\n"
   ]
  },
  {
   "cell_type": "code",
   "execution_count": 12,
   "metadata": {},
   "outputs": [
    {
     "name": "stdout",
     "output_type": "stream",
     "text": [
      "True\n"
     ]
    }
   ],
   "source": [
    "#Compute variables necessary to generate new symbols\n",
    "m = 19\n",
    "b = key[m:2*m]\n",
    "#print(b)\n",
    "A = [key[i:m+i] for i in range(m)]\n",
    "#print(A)\n",
    "AI = Matrix(A).inv_mod(2)\n",
    "#print(AI)\n",
    "p = (np.array(AI)@b)%2\n",
    "#print(p)\n",
    "seq = []\n",
    "for i in range(2*m,n):\n",
    "    new = (p@key[i-m:i])%2\n",
    "    seq.append(new)\n",
    "print(seq==key[2*m:])"
   ]
  },
  {
   "cell_type": "code",
   "execution_count": 14,
   "metadata": {},
   "outputs": [
    {
     "name": "stdout",
     "output_type": "stream",
     "text": [
      "Coefficients of the primitive polynomial: [1 0 0 0 0 1 0 0 1 1 0 0 0 0 0 0 0 0 0]\n"
     ]
    }
   ],
   "source": [
    "print(\"Coefficients of the primitive polynomial:\",p)"
   ]
  },
  {
   "cell_type": "code",
   "execution_count": 13,
   "metadata": {},
   "outputs": [
    {
     "name": "stdout",
     "output_type": "stream",
     "text": [
      "Full sequence: [1, 0, 1, 0, 0, 0, 1, 1, 0, 0, 0, 1, 1, 0, 0, 0, 1, 0, 1, 1, 1, 1, 0, 1, 0, 0, 1, 1, 1, 0, 0, 1, 0, 0, 0, 0, 1, 0, 1, 0, 0, 0, 1, 0, 0, 0, 0, 0, 1, 1, 0, 0, 0, 1, 0, 1, 1, 1, 1, 0]\n",
      "Next 20 symbols: [0, 0, 1, 0, 0, 0, 0, 0, 1, 1, 0, 0, 0, 1, 0, 1, 1, 1, 1, 0]\n"
     ]
    }
   ],
   "source": [
    "#Generate next symbols(Q8)\n",
    "next20 = key.copy()\n",
    "for i in range(20):\n",
    "    next20.append((p@next20[n-m+i:n+i])%2)\n",
    "\n",
    "print(\"Full sequence:\",next20)\n",
    "print(\"Next 20 symbols:\",next20[n:])"
   ]
  }
 ],
 "metadata": {
  "kernelspec": {
   "display_name": "Python 3",
   "language": "python",
   "name": "python3"
  },
  "language_info": {
   "codemirror_mode": {
    "name": "ipython",
    "version": 3
   },
   "file_extension": ".py",
   "mimetype": "text/x-python",
   "name": "python",
   "nbconvert_exporter": "python",
   "pygments_lexer": "ipython3",
   "version": "3.11.4"
  }
 },
 "nbformat": 4,
 "nbformat_minor": 2
}
